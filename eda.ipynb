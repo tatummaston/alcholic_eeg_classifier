{
 "cells": [
  {
   "cell_type": "code",
   "execution_count": 1,
   "metadata": {},
   "outputs": [],
   "source": [
    "import numpy as np \n",
    "import pandas as pd \n",
    "import matplotlib.pyplot as plt"
   ]
  },
  {
   "cell_type": "code",
   "execution_count": 2,
   "metadata": {},
   "outputs": [],
   "source": [
    "a_file = open('smni_eeg_data/a_1_co2a0000364/co2a0000364.rd.010', \"r\")\n",
    "lines = a_file.readlines()\n",
    "a_file.close()\n",
    "\n",
    "new_file = open(\"smni_eeg_data/a_1_co2a0000364/co2a0000364.rd.010\", \"w\")\n",
    "for line in lines:\n",
    "    if line.strip(\"\\n\") != \"line1\":\n",
    "        new_file.write(line)\n",
    "        \n",
    "new_file.close()"
   ]
  },
  {
   "cell_type": "code",
   "execution_count": 3,
   "metadata": {},
   "outputs": [],
   "source": [
    "def clean_files(file_name):\n",
    "\n",
    "    lines = []\n",
    "\n",
    "    with open(file_name, \"r\") as fp:\n",
    "        lines = fp.readlines()\n",
    "\n",
    "    with open(file_name, \"w\") as fp:\n",
    "        for number, line in enumerate(lines):\n",
    "            if number == 0:\n",
    "                fp.write('Trail# SensorPosition SensorNumber SensorValue\\n')\n",
    "            if number not in [0,1,2,3,4]:\n",
    "                fp.write(line)\n",
    "        "
   ]
  },
  {
   "cell_type": "code",
   "execution_count": 4,
   "metadata": {},
   "outputs": [],
   "source": [
    "c_n_files = ['c_n_co2c0000337/co2c0000337.rd.021','c_n_co2c0000337/co2c0000337.rd.029','c_n_co2c0000337/co2c0000337.rd.033','c_n_co2c0000337/co2c0000337.rd.043','c_n_co2c0000337/co2c0000337.rd.053','c_n_co2c0000337/co2c0000337.rd.067','c_n_co2c0000337/co2c0000337.rd.073','c_n_co2c0000337/co2c0000337.rd.083','c_n_co2c0000337/co2c0000337.rd.087','c_n_co2c0000337/co2c0000337.rd.089']\n",
    "c_m_files = ['c_m_co2c0000337/co2c0000337.rd.017','c_m_co2c0000337/co2c0000337.rd.023','c_m_co2c0000337/co2c0000337.rd.025','c_m_co2c0000337/co2c0000337.rd.027','c_m_co2c0000337/co2c0000337.rd.041','c_m_co2c0000337/co2c0000337.rd.047','c_m_co2c0000337/co2c0000337.rd.051','c_m_co2c0000337/co2c0000337.rd.055','c_m_co2c0000337/co2c0000337.rd.065','c_m_co2c0000337/co2c0000337.rd.071']\n",
    "c_1_files = ['c_1_co2c0000337/co2c0000337.rd.000','c_1_co2c0000337/co2c0000337.rd.002','c_1_co2c0000337/co2c0000337.rd.016','c_1_co2c0000337/co2c0000337.rd.024','c_1_co2c0000337/co2c0000337.rd.026','c_1_co2c0000337/co2c0000337.rd.028','c_1_co2c0000337/co2c0000337.rd.030','c_1_co2c0000337/co2c0000337.rd.032','c_1_co2c0000337/co2c0000337.rd.034','c_1_co2c0000337/co2c0000337.rd.036']"
   ]
  },
  {
   "cell_type": "code",
   "execution_count": 5,
   "metadata": {},
   "outputs": [],
   "source": [
    "a_1_files = ['a_1_co2a0000364/co2a0000364.rd.000', 'a_1_co2a0000364/co2a0000364.rd.002', 'a_1_co2a0000364/co2a0000364.rd.010', 'a_1_co2a0000364/co2a0000364.rd.012', 'a_1_co2a0000364/co2a0000364.rd.014','a_1_co2a0000364/co2a0000364.rd.018', 'a_1_co2a0000364/co2a0000364.rd.020', 'a_1_co2a0000364/co2a0000364.rd.022', 'a_1_co2a0000364/co2a0000364.rd.024', 'a_1_co2a0000364/co2a0000364.rd.028']\n",
    "a_m_files = ['a_m_co2a0000364/co2a0000364.rd.009', 'a_m_co2a0000364/co2a0000364.rd.017', 'a_m_co2a0000364/co2a0000364.rd.023', 'a_m_co2a0000364/co2a0000364.rd.025', 'a_m_co2a0000364/co2a0000364.rd.027','a_m_co2a0000364/co2a0000364.rd.037', 'a_m_co2a0000364/co2a0000364.rd.041', 'a_m_co2a0000364/co2a0000364.rd.047', 'a_m_co2a0000364/co2a0000364.rd.055', 'a_m_co2a0000364/co2a0000364.rd.061']\n",
    "a_n_files = ['a_n_co2a0000364/co2a0000364.rd.007', 'a_n_co2a0000364/co2a0000364.rd.015', 'a_n_co2a0000364/co2a0000364.rd.019', 'a_n_co2a0000364/co2a0000364.rd.031', 'a_n_co2a0000364/co2a0000364.rd.039','a_n_co2a0000364/co2a0000364.rd.043', 'a_n_co2a0000364/co2a0000364.rd.045', 'a_n_co2a0000364/co2a0000364.rd.049', 'a_n_co2a0000364/co2a0000364.rd.057', 'a_n_co2a0000364/co2a0000364.rd.059']"
   ]
  },
  {
   "cell_type": "code",
   "execution_count": 6,
   "metadata": {},
   "outputs": [],
   "source": [
    "file_list_c = [c_n_files,c_m_files,c_1_files]\n",
    "file_list_a = [a_1_files,a_m_files,a_n_files]"
   ]
  },
  {
   "cell_type": "code",
   "execution_count": 7,
   "metadata": {},
   "outputs": [],
   "source": [
    "for a in file_list_a:\n",
    "    for file in a:\n",
    "        clean_files(f\"smni_eeg_data/{file}\")"
   ]
  },
  {
   "cell_type": "code",
   "execution_count": 8,
   "metadata": {},
   "outputs": [],
   "source": [
    "for c in file_list_c:\n",
    "    for file in c:\n",
    "        clean_files(f\"smni_eeg_data/{file}\")"
   ]
  },
  {
   "cell_type": "code",
   "execution_count": 9,
   "metadata": {},
   "outputs": [],
   "source": [
    "import os"
   ]
  },
  {
   "cell_type": "code",
   "execution_count": 10,
   "metadata": {},
   "outputs": [],
   "source": [
    "df = pd.DataFrame(columns=['Trail#','SensorPosition','SensorNumber','SensorValue'])"
   ]
  },
  {
   "cell_type": "code",
   "execution_count": 11,
   "metadata": {},
   "outputs": [],
   "source": [
    "for c in file_list_c:\n",
    "    for i in c:\n",
    "        temp_df = pd.read_csv(\"smni_eeg_data/\"+i, delimiter=' ')\n",
    "        temp_df['alcoholic'] = temp_df['SensorValue'].apply([lambda x: 0])\n",
    "        temp_df['paradigm'] = temp_df['SensorValue'].apply([lambda x: str(i[2])])     \n",
    "        df = pd.concat([df, temp_df])"
   ]
  },
  {
   "cell_type": "code",
   "execution_count": 12,
   "metadata": {},
   "outputs": [
    {
     "data": {
      "text/html": [
       "<div>\n",
       "<style scoped>\n",
       "    .dataframe tbody tr th:only-of-type {\n",
       "        vertical-align: middle;\n",
       "    }\n",
       "\n",
       "    .dataframe tbody tr th {\n",
       "        vertical-align: top;\n",
       "    }\n",
       "\n",
       "    .dataframe thead th {\n",
       "        text-align: right;\n",
       "    }\n",
       "</style>\n",
       "<table border=\"1\" class=\"dataframe\">\n",
       "  <thead>\n",
       "    <tr style=\"text-align: right;\">\n",
       "      <th></th>\n",
       "      <th>Trail#</th>\n",
       "      <th>SensorPosition</th>\n",
       "      <th>SensorNumber</th>\n",
       "      <th>SensorValue</th>\n",
       "      <th>alcoholic</th>\n",
       "      <th>paradigm</th>\n",
       "    </tr>\n",
       "  </thead>\n",
       "  <tbody>\n",
       "    <tr>\n",
       "      <th>0</th>\n",
       "      <td>21</td>\n",
       "      <td>FP1</td>\n",
       "      <td>20</td>\n",
       "      <td>2.167</td>\n",
       "      <td>0.0</td>\n",
       "      <td>n</td>\n",
       "    </tr>\n",
       "    <tr>\n",
       "      <th>1</th>\n",
       "      <td>21</td>\n",
       "      <td>FP1</td>\n",
       "      <td>21</td>\n",
       "      <td>0.214</td>\n",
       "      <td>0.0</td>\n",
       "      <td>n</td>\n",
       "    </tr>\n",
       "    <tr>\n",
       "      <th>2</th>\n",
       "      <td>21</td>\n",
       "      <td>FP1</td>\n",
       "      <td>22</td>\n",
       "      <td>-1.251</td>\n",
       "      <td>0.0</td>\n",
       "      <td>n</td>\n",
       "    </tr>\n",
       "    <tr>\n",
       "      <th>3</th>\n",
       "      <td>21</td>\n",
       "      <td>FP1</td>\n",
       "      <td>23</td>\n",
       "      <td>-2.228</td>\n",
       "      <td>0.0</td>\n",
       "      <td>n</td>\n",
       "    </tr>\n",
       "    <tr>\n",
       "      <th>4</th>\n",
       "      <td>21</td>\n",
       "      <td>FP1</td>\n",
       "      <td>24</td>\n",
       "      <td>-2.228</td>\n",
       "      <td>0.0</td>\n",
       "      <td>n</td>\n",
       "    </tr>\n",
       "    <tr>\n",
       "      <th>...</th>\n",
       "      <td>...</td>\n",
       "      <td>...</td>\n",
       "      <td>...</td>\n",
       "      <td>...</td>\n",
       "      <td>...</td>\n",
       "      <td>...</td>\n",
       "    </tr>\n",
       "    <tr>\n",
       "      <th>16422</th>\n",
       "      <td>36</td>\n",
       "      <td>Y</td>\n",
       "      <td>251</td>\n",
       "      <td>-12.787</td>\n",
       "      <td>0.0</td>\n",
       "      <td>1</td>\n",
       "    </tr>\n",
       "    <tr>\n",
       "      <th>16423</th>\n",
       "      <td>36</td>\n",
       "      <td>Y</td>\n",
       "      <td>252</td>\n",
       "      <td>-14.252</td>\n",
       "      <td>0.0</td>\n",
       "      <td>1</td>\n",
       "    </tr>\n",
       "    <tr>\n",
       "      <th>16424</th>\n",
       "      <td>36</td>\n",
       "      <td>Y</td>\n",
       "      <td>253</td>\n",
       "      <td>-13.275</td>\n",
       "      <td>0.0</td>\n",
       "      <td>1</td>\n",
       "    </tr>\n",
       "    <tr>\n",
       "      <th>16425</th>\n",
       "      <td>36</td>\n",
       "      <td>Y</td>\n",
       "      <td>254</td>\n",
       "      <td>-10.834</td>\n",
       "      <td>0.0</td>\n",
       "      <td>1</td>\n",
       "    </tr>\n",
       "    <tr>\n",
       "      <th>16426</th>\n",
       "      <td>36</td>\n",
       "      <td>Y</td>\n",
       "      <td>255</td>\n",
       "      <td>-8.881</td>\n",
       "      <td>0.0</td>\n",
       "      <td>1</td>\n",
       "    </tr>\n",
       "  </tbody>\n",
       "</table>\n",
       "<p>492810 rows × 6 columns</p>\n",
       "</div>"
      ],
      "text/plain": [
       "      Trail# SensorPosition SensorNumber  SensorValue  alcoholic paradigm\n",
       "0         21            FP1           20        2.167        0.0        n\n",
       "1         21            FP1           21        0.214        0.0        n\n",
       "2         21            FP1           22       -1.251        0.0        n\n",
       "3         21            FP1           23       -2.228        0.0        n\n",
       "4         21            FP1           24       -2.228        0.0        n\n",
       "...      ...            ...          ...          ...        ...      ...\n",
       "16422     36              Y          251      -12.787        0.0        1\n",
       "16423     36              Y          252      -14.252        0.0        1\n",
       "16424     36              Y          253      -13.275        0.0        1\n",
       "16425     36              Y          254      -10.834        0.0        1\n",
       "16426     36              Y          255       -8.881        0.0        1\n",
       "\n",
       "[492810 rows x 6 columns]"
      ]
     },
     "execution_count": 12,
     "metadata": {},
     "output_type": "execute_result"
    }
   ],
   "source": [
    "df"
   ]
  },
  {
   "cell_type": "code",
   "execution_count": 13,
   "metadata": {},
   "outputs": [],
   "source": [
    "for a in file_list_a:\n",
    "    for i in a:\n",
    "        temp_df = pd.read_csv(\"smni_eeg_data/\"+i, delimiter=' ')\n",
    "        temp_df['alcoholic'] = temp_df['SensorValue'].apply([lambda x: 1])\n",
    "        temp_df['paradigm'] = temp_df['SensorValue'].apply([lambda x: str(i[2])])   \n",
    "        df = pd.concat([df, temp_df])"
   ]
  },
  {
   "cell_type": "code",
   "execution_count": 36,
   "metadata": {},
   "outputs": [
    {
     "data": {
      "text/html": [
       "<div>\n",
       "<style scoped>\n",
       "    .dataframe tbody tr th:only-of-type {\n",
       "        vertical-align: middle;\n",
       "    }\n",
       "\n",
       "    .dataframe tbody tr th {\n",
       "        vertical-align: top;\n",
       "    }\n",
       "\n",
       "    .dataframe thead th {\n",
       "        text-align: right;\n",
       "    }\n",
       "</style>\n",
       "<table border=\"1\" class=\"dataframe\">\n",
       "  <thead>\n",
       "    <tr style=\"text-align: right;\">\n",
       "      <th></th>\n",
       "      <th>Trail#</th>\n",
       "      <th>SensorPosition</th>\n",
       "      <th>SensorNumber</th>\n",
       "      <th>SensorValue</th>\n",
       "      <th>alcoholic</th>\n",
       "      <th>paradigm</th>\n",
       "      <th>paradigm_class</th>\n",
       "    </tr>\n",
       "  </thead>\n",
       "  <tbody>\n",
       "    <tr>\n",
       "      <th>0</th>\n",
       "      <td>59</td>\n",
       "      <td>FP1</td>\n",
       "      <td>12</td>\n",
       "      <td>3.662</td>\n",
       "      <td>1.0</td>\n",
       "      <td>n</td>\n",
       "      <td>0</td>\n",
       "    </tr>\n",
       "    <tr>\n",
       "      <th>1</th>\n",
       "      <td>59</td>\n",
       "      <td>FP1</td>\n",
       "      <td>13</td>\n",
       "      <td>4.150</td>\n",
       "      <td>1.0</td>\n",
       "      <td>n</td>\n",
       "      <td>0</td>\n",
       "    </tr>\n",
       "    <tr>\n",
       "      <th>2</th>\n",
       "      <td>59</td>\n",
       "      <td>FP1</td>\n",
       "      <td>14</td>\n",
       "      <td>4.639</td>\n",
       "      <td>1.0</td>\n",
       "      <td>n</td>\n",
       "      <td>0</td>\n",
       "    </tr>\n",
       "    <tr>\n",
       "      <th>3</th>\n",
       "      <td>59</td>\n",
       "      <td>FP1</td>\n",
       "      <td>15</td>\n",
       "      <td>5.127</td>\n",
       "      <td>1.0</td>\n",
       "      <td>n</td>\n",
       "      <td>0</td>\n",
       "    </tr>\n",
       "    <tr>\n",
       "      <th>4</th>\n",
       "      <td>59</td>\n",
       "      <td>FP1</td>\n",
       "      <td>16</td>\n",
       "      <td>4.150</td>\n",
       "      <td>1.0</td>\n",
       "      <td>n</td>\n",
       "      <td>0</td>\n",
       "    </tr>\n",
       "    <tr>\n",
       "      <th>...</th>\n",
       "      <td>...</td>\n",
       "      <td>...</td>\n",
       "      <td>...</td>\n",
       "      <td>...</td>\n",
       "      <td>...</td>\n",
       "      <td>...</td>\n",
       "      <td>...</td>\n",
       "    </tr>\n",
       "    <tr>\n",
       "      <th>16430</th>\n",
       "      <td>59</td>\n",
       "      <td>Y</td>\n",
       "      <td>251</td>\n",
       "      <td>-8.545</td>\n",
       "      <td>1.0</td>\n",
       "      <td>n</td>\n",
       "      <td>0</td>\n",
       "    </tr>\n",
       "    <tr>\n",
       "      <th>16431</th>\n",
       "      <td>59</td>\n",
       "      <td>Y</td>\n",
       "      <td>252</td>\n",
       "      <td>-8.057</td>\n",
       "      <td>1.0</td>\n",
       "      <td>n</td>\n",
       "      <td>0</td>\n",
       "    </tr>\n",
       "    <tr>\n",
       "      <th>16432</th>\n",
       "      <td>59</td>\n",
       "      <td>Y</td>\n",
       "      <td>253</td>\n",
       "      <td>-8.057</td>\n",
       "      <td>1.0</td>\n",
       "      <td>n</td>\n",
       "      <td>0</td>\n",
       "    </tr>\n",
       "    <tr>\n",
       "      <th>16433</th>\n",
       "      <td>59</td>\n",
       "      <td>Y</td>\n",
       "      <td>254</td>\n",
       "      <td>-6.592</td>\n",
       "      <td>1.0</td>\n",
       "      <td>n</td>\n",
       "      <td>0</td>\n",
       "    </tr>\n",
       "    <tr>\n",
       "      <th>16434</th>\n",
       "      <td>59</td>\n",
       "      <td>Y</td>\n",
       "      <td>255</td>\n",
       "      <td>-5.127</td>\n",
       "      <td>1.0</td>\n",
       "      <td>n</td>\n",
       "      <td>0</td>\n",
       "    </tr>\n",
       "  </tbody>\n",
       "</table>\n",
       "<p>16372 rows × 7 columns</p>\n",
       "</div>"
      ],
      "text/plain": [
       "      Trail# SensorPosition SensorNumber  SensorValue  alcoholic paradigm  \\\n",
       "0         59            FP1           12        3.662        1.0        n   \n",
       "1         59            FP1           13        4.150        1.0        n   \n",
       "2         59            FP1           14        4.639        1.0        n   \n",
       "3         59            FP1           15        5.127        1.0        n   \n",
       "4         59            FP1           16        4.150        1.0        n   \n",
       "...      ...            ...          ...          ...        ...      ...   \n",
       "16430     59              Y          251       -8.545        1.0        n   \n",
       "16431     59              Y          252       -8.057        1.0        n   \n",
       "16432     59              Y          253       -8.057        1.0        n   \n",
       "16433     59              Y          254       -6.592        1.0        n   \n",
       "16434     59              Y          255       -5.127        1.0        n   \n",
       "\n",
       "       paradigm_class  \n",
       "0                   0  \n",
       "1                   0  \n",
       "2                   0  \n",
       "3                   0  \n",
       "4                   0  \n",
       "...               ...  \n",
       "16430               0  \n",
       "16431               0  \n",
       "16432               0  \n",
       "16433               0  \n",
       "16434               0  \n",
       "\n",
       "[16372 rows x 7 columns]"
      ]
     },
     "execution_count": 36,
     "metadata": {},
     "output_type": "execute_result"
    }
   ],
   "source": [
    "df[df['Trail#'] == '59']"
   ]
  },
  {
   "cell_type": "code",
   "execution_count": 49,
   "metadata": {},
   "outputs": [],
   "source": [
    "df = df.loc[df.SensorNumber != 'chan']"
   ]
  },
  {
   "cell_type": "code",
   "execution_count": 50,
   "metadata": {},
   "outputs": [
    {
     "name": "stderr",
     "output_type": "stream",
     "text": [
      "/opt/anaconda3/lib/python3.7/site-packages/ipykernel_launcher.py:1: SettingWithCopyWarning: \n",
      "A value is trying to be set on a copy of a slice from a DataFrame.\n",
      "Try using .loc[row_indexer,col_indexer] = value instead\n",
      "\n",
      "See the caveats in the documentation: https://pandas.pydata.org/pandas-docs/stable/user_guide/indexing.html#returning-a-view-versus-a-copy\n",
      "  \"\"\"Entry point for launching an IPython kernel.\n"
     ]
    }
   ],
   "source": [
    "df['paradigm_class'] = df['paradigm'].replace({'n':0, '1':1, 'm':2})"
   ]
  },
  {
   "cell_type": "code",
   "execution_count": 15,
   "metadata": {},
   "outputs": [],
   "source": [
    "from sklearn.linear_model import RidgeClassifier\n",
    "from sklearn.model_selection import train_test_split"
   ]
  },
  {
   "cell_type": "code",
   "execution_count": 54,
   "metadata": {},
   "outputs": [],
   "source": [
    "X = df[df['paradigm'] == 'n'][['SensorValue','paradigm_class','SensorNumber']]\n",
    "y = df[df['paradigm'] == 'n']['alcoholic']\n",
    "\n",
    "X_train, X_test, y_train, y_test = train_test_split(X, y, test_size=0.33, random_state=42)"
   ]
  },
  {
   "cell_type": "code",
   "execution_count": 55,
   "metadata": {},
   "outputs": [],
   "source": [
    "clf = RidgeClassifier().fit(X,y)"
   ]
  },
  {
   "cell_type": "code",
   "execution_count": 56,
   "metadata": {},
   "outputs": [
    {
     "data": {
      "text/plain": [
       "0.5708302785923753"
      ]
     },
     "execution_count": 56,
     "metadata": {},
     "output_type": "execute_result"
    }
   ],
   "source": [
    "clf.score(X,y)"
   ]
  },
  {
   "cell_type": "code",
   "execution_count": null,
   "metadata": {},
   "outputs": [],
   "source": [
    "from sklearn import svm\n",
    "from sklearn.preprocessing import MinMaxScaler"
   ]
  },
  {
   "cell_type": "code",
   "execution_count": null,
   "metadata": {},
   "outputs": [],
   "source": [
    "scaler = MinMaxScaler(feature_range= (-1,1), )\n",
    "scaler.fit(X)"
   ]
  },
  {
   "cell_type": "code",
   "execution_count": null,
   "metadata": {},
   "outputs": [],
   "source": [
    "X = scaler.transform(X) \n",
    "X_train, X_test, y_train, y_test = train_test_split(X, y, test_size=0.33, random_state=42)"
   ]
  },
  {
   "cell_type": "code",
   "execution_count": null,
   "metadata": {},
   "outputs": [],
   "source": [
    "# clf = svm.SVC()\n",
    "# clf.fit(X,y)"
   ]
  },
  {
   "cell_type": "code",
   "execution_count": null,
   "metadata": {},
   "outputs": [],
   "source": []
  }
 ],
 "metadata": {
  "kernelspec": {
   "display_name": "Python 3",
   "language": "python",
   "name": "python3"
  },
  "language_info": {
   "codemirror_mode": {
    "name": "ipython",
    "version": 3
   },
   "file_extension": ".py",
   "mimetype": "text/x-python",
   "name": "python",
   "nbconvert_exporter": "python",
   "pygments_lexer": "ipython3",
   "version": "3.7.6"
  }
 },
 "nbformat": 4,
 "nbformat_minor": 4
}
